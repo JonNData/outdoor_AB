{
 "metadata": {
  "language_info": {
   "codemirror_mode": {
    "name": "ipython",
    "version": 3
   },
   "file_extension": ".py",
   "mimetype": "text/x-python",
   "name": "python",
   "nbconvert_exporter": "python",
   "pygments_lexer": "ipython3",
   "version": "3.7.4-final"
  },
  "orig_nbformat": 2,
  "kernelspec": {
   "name": "python3",
   "display_name": "Python 3"
  }
 },
 "nbformat": 4,
 "nbformat_minor": 2,
 "cells": [
  {
   "cell_type": "code",
   "execution_count": 1,
   "metadata": {},
   "outputs": [],
   "source": [
    "import pandas as pd \n",
    "import numpy as np"
   ]
  },
  {
   "cell_type": "code",
   "execution_count": 2,
   "metadata": {},
   "outputs": [
    {
     "output_type": "execute_result",
     "data": {
      "text/plain": [
       "                          source_visitor_id  visit_num  First_Visit  \\\n",
       "0     5265991230000000000000000000000000000        254            0   \n",
       "1     5265991230000000000000000000000000000        218            0   \n",
       "2     5267850000000000000000000000000000000          1            1   \n",
       "3     5267860000000000000000000000000000000          1            1   \n",
       "4     5267870000000000000000000000000000000          2            0   \n",
       "...                                     ...        ...          ...   \n",
       "8613  5337932166667980000000000000000000000          2            0   \n",
       "8614  5337940333334640000000000000000000000          1            1   \n",
       "8615  5337948500001310000000000000000000000          1            1   \n",
       "8616  5337956666667980000000000000000000000          1            1   \n",
       "8617  5337964833334640000000000000000000000          2            0   \n",
       "\n",
       "           date min_timestamp_date min_timestamp_time       max_timestamp  \\\n",
       "0    2017-03-30         2017-03-30           13:56:52 2017-03-30 14:00:00   \n",
       "1    2016-12-09         2016-12-09           13:11:32 2016-12-09 13:15:00   \n",
       "2    2016-11-23         2016-11-23           13:53:07 2016-11-23 14:00:00   \n",
       "3    2016-11-21         2016-11-21           11:05:09 2016-11-21 11:35:00   \n",
       "4    2017-04-05         2017-04-05           07:34:11 2017-04-05 07:46:00   \n",
       "...         ...                ...                ...                 ...   \n",
       "8613 2017-04-20         2017-04-20           01:22:24 2017-04-20 01:29:00   \n",
       "8614 2017-04-19         2017-04-19           16:14:51 2017-04-19 16:24:00   \n",
       "8615 2017-04-19         2017-04-19           17:48:18 2017-04-19 18:40:00   \n",
       "8616 2017-04-19         2017-04-19           19:03:44 2017-04-19 19:16:00   \n",
       "8617 2017-07-10         2017-07-10           08:31:04 2017-07-10 09:00:00   \n",
       "\n",
       "                             Recipe  purchase_flag  no_thanks_flag  ...  \\\n",
       "0     Recipe B | Upgrade Suggestive              1               1  ...   \n",
       "1     Recipe B | Upgrade Suggestive              1               1  ...   \n",
       "2     Recipe B | Upgrade Suggestive              1               1  ...   \n",
       "3     Recipe B | Upgrade Suggestive              1               1  ...   \n",
       "4     Recipe B | Upgrade Suggestive              1               1  ...   \n",
       "...                             ...            ...             ...  ...   \n",
       "8613  Recipe B | Upgrade Suggestive              0               0  ...   \n",
       "8614  Recipe B | Upgrade Suggestive              1               1  ...   \n",
       "8615  Recipe B | Upgrade Suggestive              0               0  ...   \n",
       "8616  Recipe B | Upgrade Suggestive              1               1  ...   \n",
       "8617  Recipe B | Upgrade Suggestive              1               0  ...   \n",
       "\n",
       "      Safari_Browser  SeaMonkey_Browser  Test2 landpage-hiking  \\\n",
       "0                  1                  0      1               0   \n",
       "1                  1                  0      1               0   \n",
       "2                  0                  0      1               0   \n",
       "3                  0                  0      1               0   \n",
       "4                  1                  0      1               0   \n",
       "...              ...                ...    ...             ...   \n",
       "8613               0                  0      1               0   \n",
       "8614               1                  0      1               0   \n",
       "8615               0                  0      1               0   \n",
       "8616               0                  0      1               0   \n",
       "8617               0                  0      1               0   \n",
       "\n",
       "     landpage camping landpage run loyalty_user landpage winter SEO SEM  \n",
       "0                   0            0        False               0   0   1  \n",
       "1                   0            0        False               0   0   1  \n",
       "2                   0            0        False               0   1   0  \n",
       "3                   0            0        False               0   1   0  \n",
       "4                   0            0        False               0   1   0  \n",
       "...               ...          ...          ...             ...  ..  ..  \n",
       "8613                0            0        False               0   0   1  \n",
       "8614                0            0        False               0   0   1  \n",
       "8615                0            0        False               0   1   0  \n",
       "8616                0            0        False               0   0   1  \n",
       "8617                0            0        False               0   1   0  \n",
       "\n",
       "[8618 rows x 80 columns]"
      ],
      "text/html": "<div>\n<style scoped>\n    .dataframe tbody tr th:only-of-type {\n        vertical-align: middle;\n    }\n\n    .dataframe tbody tr th {\n        vertical-align: top;\n    }\n\n    .dataframe thead th {\n        text-align: right;\n    }\n</style>\n<table border=\"1\" class=\"dataframe\">\n  <thead>\n    <tr style=\"text-align: right;\">\n      <th></th>\n      <th>source_visitor_id</th>\n      <th>visit_num</th>\n      <th>First_Visit</th>\n      <th>date</th>\n      <th>min_timestamp_date</th>\n      <th>min_timestamp_time</th>\n      <th>max_timestamp</th>\n      <th>Recipe</th>\n      <th>purchase_flag</th>\n      <th>no_thanks_flag</th>\n      <th>...</th>\n      <th>Safari_Browser</th>\n      <th>SeaMonkey_Browser</th>\n      <th>Test2</th>\n      <th>landpage-hiking</th>\n      <th>landpage camping</th>\n      <th>landpage run</th>\n      <th>loyalty_user</th>\n      <th>landpage winter</th>\n      <th>SEO</th>\n      <th>SEM</th>\n    </tr>\n  </thead>\n  <tbody>\n    <tr>\n      <th>0</th>\n      <td>5265991230000000000000000000000000000</td>\n      <td>254</td>\n      <td>0</td>\n      <td>2017-03-30</td>\n      <td>2017-03-30</td>\n      <td>13:56:52</td>\n      <td>2017-03-30 14:00:00</td>\n      <td>Recipe B | Upgrade Suggestive</td>\n      <td>1</td>\n      <td>1</td>\n      <td>...</td>\n      <td>1</td>\n      <td>0</td>\n      <td>1</td>\n      <td>0</td>\n      <td>0</td>\n      <td>0</td>\n      <td>False</td>\n      <td>0</td>\n      <td>0</td>\n      <td>1</td>\n    </tr>\n    <tr>\n      <th>1</th>\n      <td>5265991230000000000000000000000000000</td>\n      <td>218</td>\n      <td>0</td>\n      <td>2016-12-09</td>\n      <td>2016-12-09</td>\n      <td>13:11:32</td>\n      <td>2016-12-09 13:15:00</td>\n      <td>Recipe B | Upgrade Suggestive</td>\n      <td>1</td>\n      <td>1</td>\n      <td>...</td>\n      <td>1</td>\n      <td>0</td>\n      <td>1</td>\n      <td>0</td>\n      <td>0</td>\n      <td>0</td>\n      <td>False</td>\n      <td>0</td>\n      <td>0</td>\n      <td>1</td>\n    </tr>\n    <tr>\n      <th>2</th>\n      <td>5267850000000000000000000000000000000</td>\n      <td>1</td>\n      <td>1</td>\n      <td>2016-11-23</td>\n      <td>2016-11-23</td>\n      <td>13:53:07</td>\n      <td>2016-11-23 14:00:00</td>\n      <td>Recipe B | Upgrade Suggestive</td>\n      <td>1</td>\n      <td>1</td>\n      <td>...</td>\n      <td>0</td>\n      <td>0</td>\n      <td>1</td>\n      <td>0</td>\n      <td>0</td>\n      <td>0</td>\n      <td>False</td>\n      <td>0</td>\n      <td>1</td>\n      <td>0</td>\n    </tr>\n    <tr>\n      <th>3</th>\n      <td>5267860000000000000000000000000000000</td>\n      <td>1</td>\n      <td>1</td>\n      <td>2016-11-21</td>\n      <td>2016-11-21</td>\n      <td>11:05:09</td>\n      <td>2016-11-21 11:35:00</td>\n      <td>Recipe B | Upgrade Suggestive</td>\n      <td>1</td>\n      <td>1</td>\n      <td>...</td>\n      <td>0</td>\n      <td>0</td>\n      <td>1</td>\n      <td>0</td>\n      <td>0</td>\n      <td>0</td>\n      <td>False</td>\n      <td>0</td>\n      <td>1</td>\n      <td>0</td>\n    </tr>\n    <tr>\n      <th>4</th>\n      <td>5267870000000000000000000000000000000</td>\n      <td>2</td>\n      <td>0</td>\n      <td>2017-04-05</td>\n      <td>2017-04-05</td>\n      <td>07:34:11</td>\n      <td>2017-04-05 07:46:00</td>\n      <td>Recipe B | Upgrade Suggestive</td>\n      <td>1</td>\n      <td>1</td>\n      <td>...</td>\n      <td>1</td>\n      <td>0</td>\n      <td>1</td>\n      <td>0</td>\n      <td>0</td>\n      <td>0</td>\n      <td>False</td>\n      <td>0</td>\n      <td>1</td>\n      <td>0</td>\n    </tr>\n    <tr>\n      <th>...</th>\n      <td>...</td>\n      <td>...</td>\n      <td>...</td>\n      <td>...</td>\n      <td>...</td>\n      <td>...</td>\n      <td>...</td>\n      <td>...</td>\n      <td>...</td>\n      <td>...</td>\n      <td>...</td>\n      <td>...</td>\n      <td>...</td>\n      <td>...</td>\n      <td>...</td>\n      <td>...</td>\n      <td>...</td>\n      <td>...</td>\n      <td>...</td>\n      <td>...</td>\n      <td>...</td>\n    </tr>\n    <tr>\n      <th>8613</th>\n      <td>5337932166667980000000000000000000000</td>\n      <td>2</td>\n      <td>0</td>\n      <td>2017-04-20</td>\n      <td>2017-04-20</td>\n      <td>01:22:24</td>\n      <td>2017-04-20 01:29:00</td>\n      <td>Recipe B | Upgrade Suggestive</td>\n      <td>0</td>\n      <td>0</td>\n      <td>...</td>\n      <td>0</td>\n      <td>0</td>\n      <td>1</td>\n      <td>0</td>\n      <td>0</td>\n      <td>0</td>\n      <td>False</td>\n      <td>0</td>\n      <td>0</td>\n      <td>1</td>\n    </tr>\n    <tr>\n      <th>8614</th>\n      <td>5337940333334640000000000000000000000</td>\n      <td>1</td>\n      <td>1</td>\n      <td>2017-04-19</td>\n      <td>2017-04-19</td>\n      <td>16:14:51</td>\n      <td>2017-04-19 16:24:00</td>\n      <td>Recipe B | Upgrade Suggestive</td>\n      <td>1</td>\n      <td>1</td>\n      <td>...</td>\n      <td>1</td>\n      <td>0</td>\n      <td>1</td>\n      <td>0</td>\n      <td>0</td>\n      <td>0</td>\n      <td>False</td>\n      <td>0</td>\n      <td>0</td>\n      <td>1</td>\n    </tr>\n    <tr>\n      <th>8615</th>\n      <td>5337948500001310000000000000000000000</td>\n      <td>1</td>\n      <td>1</td>\n      <td>2017-04-19</td>\n      <td>2017-04-19</td>\n      <td>17:48:18</td>\n      <td>2017-04-19 18:40:00</td>\n      <td>Recipe B | Upgrade Suggestive</td>\n      <td>0</td>\n      <td>0</td>\n      <td>...</td>\n      <td>0</td>\n      <td>0</td>\n      <td>1</td>\n      <td>0</td>\n      <td>0</td>\n      <td>0</td>\n      <td>False</td>\n      <td>0</td>\n      <td>1</td>\n      <td>0</td>\n    </tr>\n    <tr>\n      <th>8616</th>\n      <td>5337956666667980000000000000000000000</td>\n      <td>1</td>\n      <td>1</td>\n      <td>2017-04-19</td>\n      <td>2017-04-19</td>\n      <td>19:03:44</td>\n      <td>2017-04-19 19:16:00</td>\n      <td>Recipe B | Upgrade Suggestive</td>\n      <td>1</td>\n      <td>1</td>\n      <td>...</td>\n      <td>0</td>\n      <td>0</td>\n      <td>1</td>\n      <td>0</td>\n      <td>0</td>\n      <td>0</td>\n      <td>False</td>\n      <td>0</td>\n      <td>0</td>\n      <td>1</td>\n    </tr>\n    <tr>\n      <th>8617</th>\n      <td>5337964833334640000000000000000000000</td>\n      <td>2</td>\n      <td>0</td>\n      <td>2017-07-10</td>\n      <td>2017-07-10</td>\n      <td>08:31:04</td>\n      <td>2017-07-10 09:00:00</td>\n      <td>Recipe B | Upgrade Suggestive</td>\n      <td>1</td>\n      <td>0</td>\n      <td>...</td>\n      <td>0</td>\n      <td>0</td>\n      <td>1</td>\n      <td>0</td>\n      <td>0</td>\n      <td>0</td>\n      <td>False</td>\n      <td>0</td>\n      <td>1</td>\n      <td>0</td>\n    </tr>\n  </tbody>\n</table>\n<p>8618 rows × 80 columns</p>\n</div>"
     },
     "metadata": {},
     "execution_count": 2
    }
   ],
   "source": [
    "df_orig = pd.read_excel('..\\data\\Evolytics Data Science Exercise.xlsx')\n",
    "df_orig"
   ]
  }
 ]
}